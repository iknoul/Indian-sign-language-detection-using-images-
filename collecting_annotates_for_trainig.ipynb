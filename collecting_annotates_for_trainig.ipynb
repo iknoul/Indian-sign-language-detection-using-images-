{
 "cells": [
  {
   "cell_type": "code",
   "execution_count": 1,
   "id": "3e3e441f",
   "metadata": {},
   "outputs": [],
   "source": [
    "import cv2\n",
    "import os\n",
    "import uuid\n",
    "import cv2\n",
    "import numpy as np\n",
    "import mediapipe as mp\n",
    "\n",
    "mp_drawing = mp.solutions.drawing_utils \n",
    "mp_holistic = mp.solutions.holistic \n",
    "IMAGES_PATH = 'collected_images'\n",
    "\n",
    "cap = cv2.VideoCapture(0)\n",
    "width  = int(cap.get(cv2.CAP_PROP_FRAME_WIDTH))\n",
    "height = int(cap.get(cv2.CAP_PROP_FRAME_HEIGHT))"
   ]
  },
  {
   "cell_type": "code",
   "execution_count": 2,
   "id": "d3b2ca40",
   "metadata": {},
   "outputs": [],
   "source": [
    "labels=['Hello', 'Language', 'Men', 'No', 'Out_of_library', 'Please', 'Thanks','Women', 'Yes']"
   ]
  },
  {
   "cell_type": "code",
   "execution_count": 3,
   "id": "eb8c2810",
   "metadata": {},
   "outputs": [
    {
     "name": "stderr",
     "output_type": "stream",
     "text": [
      "A subdirectory or file collected_images\\verthe\\Hello already exists.\n"
     ]
    },
    {
     "name": "stdout",
     "output_type": "stream",
     "text": [
      "Hello\n",
      "1\n",
      "2\n",
      "3\n",
      "4\n",
      "5\n",
      "6\n",
      "7\n",
      "8\n",
      "9\n",
      "10\n",
      "quit\n",
      "Language\n"
     ]
    },
    {
     "name": "stderr",
     "output_type": "stream",
     "text": [
      "A subdirectory or file collected_images\\verthe\\Language already exists.\n"
     ]
    },
    {
     "name": "stdout",
     "output_type": "stream",
     "text": [
      "1\n",
      "2\n",
      "3\n",
      "4\n",
      "5\n",
      "6\n",
      "7\n",
      "8\n",
      "9\n",
      "10\n",
      "quit\n",
      "Men\n"
     ]
    },
    {
     "name": "stderr",
     "output_type": "stream",
     "text": [
      "A subdirectory or file collected_images\\verthe\\Men already exists.\n"
     ]
    },
    {
     "name": "stdout",
     "output_type": "stream",
     "text": [
      "1\n",
      "2\n",
      "3\n",
      "4\n",
      "5\n",
      "6\n",
      "7\n",
      "8\n",
      "9\n",
      "10\n",
      "quit\n",
      "No\n"
     ]
    },
    {
     "name": "stderr",
     "output_type": "stream",
     "text": [
      "A subdirectory or file collected_images\\verthe\\No already exists.\n"
     ]
    },
    {
     "name": "stdout",
     "output_type": "stream",
     "text": [
      "1\n",
      "2\n",
      "3\n",
      "4\n",
      "5\n",
      "6\n",
      "7\n",
      "8\n",
      "9\n",
      "10\n",
      "quit\n",
      "Out_of_library\n"
     ]
    },
    {
     "name": "stderr",
     "output_type": "stream",
     "text": [
      "A subdirectory or file collected_images\\verthe\\Out_of_library already exists.\n"
     ]
    },
    {
     "name": "stdout",
     "output_type": "stream",
     "text": [
      "1\n",
      "2\n",
      "3\n",
      "4\n",
      "5\n",
      "6\n",
      "7\n",
      "8\n",
      "9\n",
      "10\n",
      "quit\n",
      "Please\n"
     ]
    },
    {
     "name": "stderr",
     "output_type": "stream",
     "text": [
      "A subdirectory or file collected_images\\verthe\\Please already exists.\n"
     ]
    },
    {
     "name": "stdout",
     "output_type": "stream",
     "text": [
      "1\n",
      "2\n",
      "3\n",
      "4\n",
      "5\n",
      "6\n",
      "7\n",
      "8\n",
      "9\n",
      "10\n",
      "quit\n",
      "Thanks\n"
     ]
    },
    {
     "name": "stderr",
     "output_type": "stream",
     "text": [
      "A subdirectory or file collected_images\\verthe\\Thanks already exists.\n"
     ]
    },
    {
     "name": "stdout",
     "output_type": "stream",
     "text": [
      "1\n",
      "2\n",
      "3\n",
      "4\n",
      "5\n",
      "6\n",
      "7\n",
      "8\n",
      "9\n",
      "10\n",
      "quit\n",
      "Women\n"
     ]
    },
    {
     "name": "stderr",
     "output_type": "stream",
     "text": [
      "A subdirectory or file collected_images\\verthe\\Women already exists.\n"
     ]
    },
    {
     "name": "stdout",
     "output_type": "stream",
     "text": [
      "1\n",
      "2\n",
      "3\n",
      "4\n",
      "5\n",
      "6\n",
      "7\n",
      "8\n",
      "9\n",
      "10\n",
      "quit\n",
      "Yes\n"
     ]
    },
    {
     "name": "stderr",
     "output_type": "stream",
     "text": [
      "A subdirectory or file collected_images\\verthe\\Yes already exists.\n"
     ]
    },
    {
     "name": "stdout",
     "output_type": "stream",
     "text": [
      "1\n",
      "2\n",
      "3\n",
      "4\n",
      "5\n",
      "6\n",
      "7\n",
      "8\n",
      "9\n",
      "10\n",
      "quit\n"
     ]
    }
   ],
   "source": [
    "with mp_holistic.Holistic(min_detection_confidence = 0.5, min_tracking_confidence = 0.5) as holistic:\n",
    "    for label in labels:\n",
    "        !mkdir {'collected_images\\\\'+label}\n",
    "        print(label)\n",
    "        n = True\n",
    "        taken = 0\n",
    "        while(n):        \n",
    "            ret, frame = cap.read()\n",
    "            if ret == True:\n",
    "                img = np.zeros((frame.shape[0], frame.shape[1], frame.shape[2]))\n",
    "                # Resize frame\n",
    "                #frame = cv2.resize(frame, (WIDTH, HEIGHT), interpolation = cv2.INTER_AREA)\n",
    "                # Change color from BGR to RGB\n",
    "                frame = cv2.cvtColor(frame, cv2.COLOR_BGR2RGB)\n",
    "                frame.flags.writeable = False\n",
    "                # Detect landmarks\n",
    "                results = holistic.process(frame)\n",
    "                # Left hand (azul)\n",
    "                mp_drawing.draw_landmarks(\n",
    "                    img, results.left_hand_landmarks, mp_holistic.HAND_CONNECTIONS,\n",
    "                    mp_drawing.DrawingSpec(color=(255, 255, 0), thickness=2, circle_radius=1),\n",
    "                    mp_drawing.DrawingSpec(color=(255, 0, 0), thickness=2))\n",
    "                #print(img)\n",
    "\n",
    "\n",
    "                # Right hand (verde)\n",
    "                mp_drawing.draw_landmarks(\n",
    "                    img, results.right_hand_landmarks, mp_holistic.HAND_CONNECTIONS,\n",
    "                    mp_drawing.DrawingSpec(color=(0, 255, 0), thickness=2, circle_radius=1),\n",
    "                    mp_drawing.DrawingSpec(color=(57, 143, 0), thickness=2))\n",
    "                #print(img)\n",
    "\n",
    "                # Pose\n",
    "                mp_drawing.draw_landmarks(\n",
    "                    img, results.pose_landmarks, mp_holistic.POSE_CONNECTIONS,\n",
    "                    mp_drawing.DrawingSpec(color=(128, 0, 255), thickness=2, circle_radius=1),\n",
    "                    mp_drawing.DrawingSpec(color=(255, 255, 255), thickness=2))\n",
    "                    #print(img)\n",
    "\n",
    "                frame = cv2.cvtColor(frame, cv2.COLOR_RGB2BGR)\n",
    "                cv2.imshow(\"Frame\", frame)\n",
    "                cv2.imshow(\"Black\", img)\n",
    "                if cv2.waitKey(0) & 0xFF == ord('s'):\n",
    "                    imagename = os.path.join(IMAGES_PATH, label, label+'.'+'{}.jpg'.format(str(uuid.uuid1())))\n",
    "                    cv2.imwrite(imagename, img)\n",
    "                    taken+=1\n",
    "                    print(taken)\n",
    "                #output.write(img)\n",
    "                if cv2.waitKey(0) & 0xFF == ord('m'):\n",
    "                    print('quit')\n",
    "                    n=False\n",
    "                    #cap.release()\n",
    "                    break\n",
    "            else:\n",
    "                   break\n",
    "    #cap.release()"
   ]
  },
  {
   "cell_type": "code",
   "execution_count": 5,
   "id": "4298d45e",
   "metadata": {},
   "outputs": [],
   "source": [
    "cap.release()\n",
    "cv2.destroyAllWindows()"
   ]
  },
  {
   "cell_type": "code",
   "execution_count": null,
   "id": "64002316",
   "metadata": {},
   "outputs": [],
   "source": []
  },
  {
   "cell_type": "code",
   "execution_count": null,
   "id": "4109810d",
   "metadata": {},
   "outputs": [],
   "source": []
  }
 ],
 "metadata": {
  "kernelspec": {
   "display_name": "Python 3 (ipykernel)",
   "language": "python",
   "name": "python3"
  },
  "language_info": {
   "codemirror_mode": {
    "name": "ipython",
    "version": 3
   },
   "file_extension": ".py",
   "mimetype": "text/x-python",
   "name": "python",
   "nbconvert_exporter": "python",
   "pygments_lexer": "ipython3",
   "version": "3.10.6"
  }
 },
 "nbformat": 4,
 "nbformat_minor": 5
}
